{
 "cells": [
  {
   "cell_type": "markdown",
   "metadata": {},
   "source": [
    "# Case Study"
   ]
  },
  {
   "cell_type": "markdown",
   "metadata": {},
   "source": [
    "<img src=\"./images/bmtc_case_study_1.jpg\" width=1000 height=800 align=\"left\"/>"
   ]
  },
  {
   "cell_type": "markdown",
   "metadata": {},
   "source": [
    "<img src=\"./images/bmtc_case_study_2.jpg\" width=1000 height=800 align=\"left\"/>"
   ]
  },
  {
   "cell_type": "markdown",
   "metadata": {},
   "source": [
    "[BMTC Performace Indicators](https://mybmtc.karnataka.gov.in/info-1/Perfomance+Indicator/en)"
   ]
  },
  {
   "cell_type": "markdown",
   "metadata": {},
   "source": [
    "# Basic Example on Linear Programming Formulations"
   ]
  },
  {
   "cell_type": "markdown",
   "metadata": {},
   "source": [
    "## Product Mix"
   ]
  },
  {
   "cell_type": "markdown",
   "metadata": {},
   "source": [
    "### (1) A small furniture manufacturer produces three different kinds of furniture: Desks, Chairs and\n",
    "### bookcases. The wood materials have to be cut properly by machines. In total, 100 machine\n",
    "### hours are available for cutting. Each unit of Desks, Chairs, and Bookcases requires 0.8\n",
    "### machine hour, 0.4 machine hour, and 0.5 machine hour respectively.\n",
    "### This manufacturer has also 650 man-hours available for painting and polishing. Each unit of\n",
    "### Desks, Chairs, and Bookcases requires 5 man hours, 3 man hours and 3 man hours\n",
    "### respectively for painting and polishing. These products are to be stored in a warehouse which\n",
    "### has a total capacity of 140 sq. meters. The floor space required by these three products are 1\n",
    "### sq. meters, 0.7 sq. meters, and 1.1 sq. meters respectively. In the market, each product is sold\n",
    "### at a profit of Rs. 30/-, Rs. 16/- , and Rs. 25/ per unit respectively. How many units of each\n",
    "### product should be made to realize maximum profit? Formulate the decision problem as an LP."
   ]
  },
  {
   "cell_type": "markdown",
   "metadata": {},
   "source": [
    "# LP Formulation"
   ]
  },
  {
   "cell_type": "markdown",
   "metadata": {},
   "source": [
    "## DVS"
   ]
  },
  {
   "cell_type": "markdown",
   "metadata": {},
   "source": [
    "## $X_{Desks}$ - No of desks to be produced\n",
    "## $X_{Chairs}$ - No of desks to be produced\n",
    "## $X_{Bookcases}$ - No of desks to be produced"
   ]
  },
  {
   "cell_type": "markdown",
   "metadata": {},
   "source": [
    "# Constraints"
   ]
  },
  {
   "cell_type": "markdown",
   "metadata": {},
   "source": [
    "### Machine cutting capacity constraint"
   ]
  },
  {
   "cell_type": "markdown",
   "metadata": {},
   "source": [
    "## $C_{Cutting}$ -->  $0.8 X_{Desks} + 0.4 X_{Chairs} + 0.4 X_{Bookcases} <= 100$"
   ]
  },
  {
   "cell_type": "markdown",
   "metadata": {},
   "source": [
    "### Man hours capacity constraint"
   ]
  },
  {
   "cell_type": "markdown",
   "metadata": {},
   "source": [
    "## $C_{manhours}$ -->  $5 X_{Desks} + 3 X_{Chairs} + 3 X_{Bookcases} <= 650$"
   ]
  },
  {
   "cell_type": "markdown",
   "metadata": {},
   "source": [
    "## Warehouse capacity constraint"
   ]
  },
  {
   "cell_type": "markdown",
   "metadata": {},
   "source": [
    "## $C_{manhours}$ -->  $1 X_{Desks} + 0.7 X_{Chairs} + 1.1 X_{Bookcases} <= 140$"
   ]
  },
  {
   "cell_type": "markdown",
   "metadata": {},
   "source": [
    "# Objective Function"
   ]
  },
  {
   "cell_type": "markdown",
   "metadata": {},
   "source": [
    "## Maximize Profit\n",
    "## $30 X_{Desks} + 16 X_{Chairs} + 25 X_{Bookcases}$"
   ]
  },
  {
   "cell_type": "code",
   "execution_count": null,
   "metadata": {},
   "outputs": [],
   "source": []
  }
 ],
 "metadata": {
  "kernelspec": {
   "display_name": "Python(optmize)",
   "language": "python",
   "name": "optmize"
  },
  "language_info": {
   "codemirror_mode": {
    "name": "ipython",
    "version": 3
   },
   "file_extension": ".py",
   "mimetype": "text/x-python",
   "name": "python",
   "nbconvert_exporter": "python",
   "pygments_lexer": "ipython3",
   "version": "3.8.8"
  }
 },
 "nbformat": 4,
 "nbformat_minor": 4
}
