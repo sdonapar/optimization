{
 "cells": [
  {
   "cell_type": "markdown",
   "metadata": {},
   "source": [
    "# Introduction"
   ]
  },
  {
   "cell_type": "markdown",
   "metadata": {},
   "source": [
    "<img src=\"./images/analytics.jpg\" width=1000 height=800 align=\"left\"/>"
   ]
  },
  {
   "cell_type": "markdown",
   "metadata": {},
   "source": [
    "<img src=\"./images/why_analytics.jpg\" width=1000 height=800 align=\"left\"/>"
   ]
  },
  {
   "cell_type": "markdown",
   "metadata": {},
   "source": [
    "<img src=\"./images/business_analytics.jpg\" width=1000 height=800 align=\"left\"/>"
   ]
  },
  {
   "cell_type": "markdown",
   "metadata": {},
   "source": [
    "# Business Context\n",
    "## Business Analytics start with the business context and ability of the organization to ask the right questions."
   ]
  },
  {
   "cell_type": "markdown",
   "metadata": {},
   "source": [
    "<img src=\"./images/did_you_forget.jpg\" width=1000 height=800 align=\"left\"/>"
   ]
  },
  {
   "cell_type": "markdown",
   "metadata": {},
   "source": [
    "# Technology\n",
    "## To find out whether a customer has forgotten certain items to place an order, we need data."
   ]
  },
  {
   "cell_type": "markdown",
   "metadata": {},
   "source": [
    "# Data Science\n",
    "\n",
    "## Data Science is the most important component of analytics.\n",
    "## Consists of Statistical and <u>Operations Research techniques</u>, Machine Learning and Deep Learning Algorithms.\n",
    "\n",
    "# The objective of the data science component of analytics is to identify the most appropriate statistical model/machine learning algorithm that can be used."
   ]
  },
  {
   "cell_type": "markdown",
   "metadata": {},
   "source": [
    "<img src=\"./images/types_of_analytics.jpg\" width=1000 height=800 align=\"left\"/>"
   ]
  },
  {
   "cell_type": "markdown",
   "metadata": {},
   "source": [
    "# Decision Making\n",
    "\n",
    "## A process of choosing best/good alternative(s) from among various alternative courses of action for the purpose of attaining goal or goals"
   ]
  },
  {
   "cell_type": "markdown",
   "metadata": {},
   "source": [
    "# Model Formulation is heart of Decision Making\n",
    "\n",
    "## Amodel is simply a representation of reality.\n",
    "\n",
    "## That is, a model is an abstraction of a physical system / a property of a system / a concept / a idea etc.\n"
   ]
  },
  {
   "cell_type": "markdown",
   "metadata": {},
   "source": [
    "# ICONIC MODEL\n",
    "## Iconic Model has the same shape and appearance as the actual system, but is usually a scaled version (Scale Mode / Physical model) of the system.\n",
    "\n",
    "### Example: Drawings of a House, Maps, A Toy Airplane, etc."
   ]
  },
  {
   "cell_type": "markdown",
   "metadata": {},
   "source": [
    "# ANALOGUE MODEL\n",
    "\n",
    "## A model that consists of real properties, but ones that are different from those of the system being modeled is called an Analogue Model.\n",
    "\n",
    "\n",
    "## Example: Histogram / Graph (Demand Curve) / Flow Chart / Diagram / A Road Map; A Thermometer (analog model representing temperature); etc"
   ]
  },
  {
   "cell_type": "markdown",
   "metadata": {},
   "source": [
    "# SYMBOLIC / MATHEMATICAL MODEL\n",
    "\n",
    "## It is one which uses a set of mathematical symbols to represent the properties or characteristics of the system being modeled or concepts or idea.\n",
    "\n",
    "## Note: Symbolic models are the most abstract type of model and the most commonly used in OR/MSPrescriptive Analytics activity"
   ]
  },
  {
   "cell_type": "markdown",
   "metadata": {},
   "source": [
    "# DESCRIPTIVE MODEL\n",
    "## The modeler attempts to represent some particular physical situation but does not indicate any preferred course of action.\n",
    "## Example: Waiting - Line Model; Simulation Model"
   ]
  },
  {
   "cell_type": "markdown",
   "metadata": {},
   "source": [
    "# NORMATIVE / PRESCRIPTIVE MODEL\n",
    "## The normative model is prescriptive in nature, in that it prescribes the course of action that the Decision Maker should select to achieve some defined objective."
   ]
  },
  {
   "cell_type": "markdown",
   "metadata": {},
   "source": [
    "# PREDICTIVE MODEL\n",
    "## Which typically is used to make a forecast of future\n",
    "## Example: Forecasting Model"
   ]
  },
  {
   "cell_type": "markdown",
   "metadata": {},
   "source": [
    "# HEURISTIC MODEL\n",
    "## Heuristic model are basically modelling that employ intuitive rules or “rules of thumb” in the hope of generating “good” solution.\n",
    "## Heuristic Model can be developed for Descriptive / Prescriptive / Predictive purposes."
   ]
  },
  {
   "cell_type": "markdown",
   "metadata": {},
   "source": [
    "# DETERMINISTIC MODEL\n",
    "## If all uncontrollable input to a model are known and can not vary, the model is referred to as a deterministic model.\n",
    "# STOCHASTIC/PROBABILISTIC MODEL\n",
    "## If any of the uncontrollable inputs are uncertain and subject to variation, the model is referred to as a stochastic model.\n",
    "# STATIC MODEL\n",
    "## It is defined at a particular point in time and encompasses a particular time period.\n",
    "# DYNAMIC MODEL\n",
    "## Here the modeler examines a multiple time period horizon in order to select the optional course of action."
   ]
  },
  {
   "cell_type": "markdown",
   "metadata": {},
   "source": [
    "<img src=\"./images/prescriptive_application_1.jpg\" width=1000 height=800 align=\"left\"/>"
   ]
  },
  {
   "cell_type": "markdown",
   "metadata": {},
   "source": [
    "<img src=\"./images/prescriptive_application_2.jpg\" width=1000 height=800 align=\"left\"/>"
   ]
  },
  {
   "cell_type": "markdown",
   "metadata": {},
   "source": [
    "<img src=\"./images/prescriptive_application_3.jpg\" width=1000 height=800 align=\"left\"/>"
   ]
  },
  {
   "cell_type": "markdown",
   "metadata": {},
   "source": [
    "<img src=\"./images/process_model_input_output.jpg\" width=1000 height=800 align=\"left\"/>"
   ]
  },
  {
   "cell_type": "markdown",
   "metadata": {},
   "source": [
    "<img src=\"./images/mp.jpg\" width=1000 height=800 align=\"left\"/>"
   ]
  },
  {
   "cell_type": "markdown",
   "metadata": {},
   "source": [
    "<img src=\"./images/mp_model.jpg\" width=1000 height=800 align=\"left\"/>"
   ]
  },
  {
   "cell_type": "markdown",
   "metadata": {},
   "source": [
    "<img src=\"./images/dvs.jpg\" width=1000 height=800 align=\"left\"/>"
   ]
  },
  {
   "cell_type": "markdown",
   "metadata": {},
   "source": [
    "<img src=\"./images/constraints.jpg\" width=1000 height=800 align=\"left\"/>"
   ]
  },
  {
   "cell_type": "markdown",
   "metadata": {},
   "source": [
    "<img src=\"./images/objective_function.jpg\" width=1000 height=800 align=\"left\"/>"
   ]
  },
  {
   "cell_type": "markdown",
   "metadata": {},
   "source": [
    "<img src=\"./images/general_form_of_lp.jpg\" width=1000 height=800 align=\"left\"/>"
   ]
  },
  {
   "cell_type": "code",
   "execution_count": null,
   "metadata": {},
   "outputs": [],
   "source": []
  }
 ],
 "metadata": {
  "kernelspec": {
   "display_name": "Python(optmize)",
   "language": "python",
   "name": "optmize"
  },
  "language_info": {
   "codemirror_mode": {
    "name": "ipython",
    "version": 3
   },
   "file_extension": ".py",
   "mimetype": "text/x-python",
   "name": "python",
   "nbconvert_exporter": "python",
   "pygments_lexer": "ipython3",
   "version": "3.8.8"
  }
 },
 "nbformat": 4,
 "nbformat_minor": 4
}
