{
 "cells": [
  {
   "cell_type": "code",
   "execution_count": 1,
   "metadata": {},
   "outputs": [],
   "source": [
    "import numpy as np\n",
    "import pandas as pd\n",
    "import pulp"
   ]
  },
  {
   "cell_type": "markdown",
   "metadata": {},
   "source": [
    "<img src=\"./images/example_lp_formulation.jpg\" width=500 height=500 align=\"left\"/>"
   ]
  },
  {
   "cell_type": "markdown",
   "metadata": {},
   "source": [
    "## Define Problem"
   ]
  },
  {
   "cell_type": "code",
   "execution_count": 2,
   "metadata": {},
   "outputs": [],
   "source": [
    "prob = pulp.LpProblem(\"ProductMix\",pulp.LpMaximize)"
   ]
  },
  {
   "cell_type": "code",
   "execution_count": 3,
   "metadata": {},
   "outputs": [
    {
     "data": {
      "text/plain": [
       "ProductMix:\n",
       "MAXIMIZE\n",
       "None\n",
       "VARIABLES"
      ]
     },
     "execution_count": 3,
     "metadata": {},
     "output_type": "execute_result"
    }
   ],
   "source": [
    "prob"
   ]
  },
  {
   "cell_type": "markdown",
   "metadata": {},
   "source": [
    "## Create decision variables"
   ]
  },
  {
   "cell_type": "code",
   "execution_count": 4,
   "metadata": {},
   "outputs": [],
   "source": [
    "products = ['Desks', 'Chairs', 'Bookcases']"
   ]
  },
  {
   "cell_type": "code",
   "execution_count": 5,
   "metadata": {},
   "outputs": [],
   "source": [
    "product_dvs = {}\n",
    "for product in products:\n",
    "    var = pulp.LpVariable(name=product,lowBound=0,)\n",
    "    product_dvs[product] = var"
   ]
  },
  {
   "cell_type": "code",
   "execution_count": 6,
   "metadata": {},
   "outputs": [
    {
     "data": {
      "text/plain": [
       "{'Desks': Desks, 'Chairs': Chairs, 'Bookcases': Bookcases}"
      ]
     },
     "execution_count": 6,
     "metadata": {},
     "output_type": "execute_result"
    }
   ],
   "source": [
    "product_dvs"
   ]
  },
  {
   "cell_type": "markdown",
   "metadata": {},
   "source": [
    "## Cutting hours capacity constraint"
   ]
  },
  {
   "cell_type": "code",
   "execution_count": 7,
   "metadata": {},
   "outputs": [],
   "source": [
    "cutting_hours = {\n",
    "    'Desks' : 0.8,\n",
    "    'Chairs' : 0.4,\n",
    "    'Bookcases' : 0.4\n",
    "}\n",
    "available_cutting_hours = 100"
   ]
  },
  {
   "cell_type": "code",
   "execution_count": 8,
   "metadata": {},
   "outputs": [],
   "source": [
    "expression = pulp.LpAffineExpression()\n",
    "for product in products:\n",
    "    expression += cutting_hours[product] * product_dvs[product]"
   ]
  },
  {
   "cell_type": "code",
   "execution_count": 9,
   "metadata": {},
   "outputs": [],
   "source": [
    "expression = expression <= available_cutting_hours\n",
    "cutting_hours_constraint = pulp.LpConstraint(expression,name=\"CuttingHoursCapacity\")"
   ]
  },
  {
   "cell_type": "code",
   "execution_count": 10,
   "metadata": {},
   "outputs": [
    {
     "data": {
      "text/plain": [
       "0.4*Bookcases + 0.4*Chairs + 0.8*Desks + -100.0 = 0"
      ]
     },
     "execution_count": 10,
     "metadata": {},
     "output_type": "execute_result"
    }
   ],
   "source": [
    "cutting_hours_constraint"
   ]
  },
  {
   "cell_type": "code",
   "execution_count": 11,
   "metadata": {},
   "outputs": [],
   "source": [
    "prob += cutting_hours_constraint"
   ]
  },
  {
   "cell_type": "markdown",
   "metadata": {},
   "source": [
    "## Man hours capacity constraint"
   ]
  },
  {
   "cell_type": "code",
   "execution_count": 12,
   "metadata": {},
   "outputs": [],
   "source": [
    "man_hours = {\n",
    "    'Desks' : 5,\n",
    "    'Chairs' : 3,\n",
    "    'Bookcases' : 3\n",
    "}\n",
    "available_man_hours = 650"
   ]
  },
  {
   "cell_type": "code",
   "execution_count": 13,
   "metadata": {},
   "outputs": [],
   "source": [
    "expression = pulp.LpAffineExpression()\n",
    "for product in products:\n",
    "    expression += man_hours[product] * product_dvs[product]"
   ]
  },
  {
   "cell_type": "code",
   "execution_count": 14,
   "metadata": {},
   "outputs": [],
   "source": [
    "expression = expression <= available_man_hours\n",
    "man_hours_constraint = pulp.LpConstraint(expression,name=\"ManHoursCapacity\")"
   ]
  },
  {
   "cell_type": "code",
   "execution_count": 15,
   "metadata": {},
   "outputs": [
    {
     "data": {
      "text/plain": [
       "3*Bookcases + 3*Chairs + 5*Desks + -650 = 0"
      ]
     },
     "execution_count": 15,
     "metadata": {},
     "output_type": "execute_result"
    }
   ],
   "source": [
    "man_hours_constraint"
   ]
  },
  {
   "cell_type": "code",
   "execution_count": 16,
   "metadata": {},
   "outputs": [],
   "source": [
    "prob += man_hours_constraint"
   ]
  },
  {
   "cell_type": "markdown",
   "metadata": {},
   "source": [
    "## Warehouse capacity constraint"
   ]
  },
  {
   "cell_type": "code",
   "execution_count": 17,
   "metadata": {},
   "outputs": [],
   "source": [
    "floor_space_requirements = {\n",
    "    'Desks' : 1,\n",
    "    'Chairs' : 0.7,\n",
    "    'Bookcases' : 1.1\n",
    "}\n",
    "available_floor_space = 140"
   ]
  },
  {
   "cell_type": "code",
   "execution_count": 18,
   "metadata": {},
   "outputs": [],
   "source": [
    "expression = pulp.LpAffineExpression()\n",
    "for product in products:\n",
    "    expression += floor_space_requirements[product] * product_dvs[product]"
   ]
  },
  {
   "cell_type": "code",
   "execution_count": 19,
   "metadata": {},
   "outputs": [],
   "source": [
    "expression = expression <= available_floor_space\n",
    "floor_space_constraint = pulp.LpConstraint(expression,name=\"WarehouseCapacity\")"
   ]
  },
  {
   "cell_type": "code",
   "execution_count": 20,
   "metadata": {},
   "outputs": [
    {
     "data": {
      "text/plain": [
       "1.1*Bookcases + 0.7*Chairs + 1*Desks + -140.0 = 0"
      ]
     },
     "execution_count": 20,
     "metadata": {},
     "output_type": "execute_result"
    }
   ],
   "source": [
    "floor_space_constraint"
   ]
  },
  {
   "cell_type": "code",
   "execution_count": 21,
   "metadata": {},
   "outputs": [],
   "source": [
    "prob += floor_space_constraint"
   ]
  },
  {
   "cell_type": "code",
   "execution_count": 22,
   "metadata": {},
   "outputs": [
    {
     "data": {
      "text/plain": [
       "ProductMix:\n",
       "MAXIMIZE\n",
       "None\n",
       "SUBJECT TO\n",
       "CuttingHoursCapacity: 0.4 Bookcases + 0.4 Chairs + 0.8 Desks = 100\n",
       "\n",
       "ManHoursCapacity: 3 Bookcases + 3 Chairs + 5 Desks = 650\n",
       "\n",
       "WarehouseCapacity: 1.1 Bookcases + 0.7 Chairs + Desks = 140\n",
       "\n",
       "VARIABLES\n",
       "Bookcases Continuous\n",
       "Chairs Continuous\n",
       "Desks Continuous"
      ]
     },
     "execution_count": 22,
     "metadata": {},
     "output_type": "execute_result"
    }
   ],
   "source": [
    "prob"
   ]
  },
  {
   "cell_type": "markdown",
   "metadata": {},
   "source": [
    "## Objective Function"
   ]
  },
  {
   "cell_type": "markdown",
   "metadata": {},
   "source": [
    "## Maximize Profit\n",
    "## $30 X_{Desks} + 16 X_{Chairs} + 25 X_{Bookcases}$"
   ]
  },
  {
   "cell_type": "code",
   "execution_count": 23,
   "metadata": {},
   "outputs": [],
   "source": [
    "product_profit = {\n",
    "    'Desks' : 30,\n",
    "    'Chairs' : 16,\n",
    "    'Bookcases' : 5\n",
    "}"
   ]
  },
  {
   "cell_type": "code",
   "execution_count": 24,
   "metadata": {},
   "outputs": [],
   "source": [
    "obj_expression = pulp.LpAffineExpression()\n",
    "for product in products:\n",
    "    obj_expression += product_profit[product] * product_dvs[product]"
   ]
  },
  {
   "cell_type": "code",
   "execution_count": 25,
   "metadata": {},
   "outputs": [
    {
     "data": {
      "text/plain": [
       "5*Bookcases + 16*Chairs + 30*Desks + 0"
      ]
     },
     "execution_count": 25,
     "metadata": {},
     "output_type": "execute_result"
    }
   ],
   "source": [
    "obj_expression"
   ]
  },
  {
   "cell_type": "code",
   "execution_count": 26,
   "metadata": {},
   "outputs": [],
   "source": [
    "prob += obj_expression"
   ]
  },
  {
   "cell_type": "code",
   "execution_count": 27,
   "metadata": {},
   "outputs": [
    {
     "data": {
      "text/plain": [
       "ProductMix:\n",
       "MAXIMIZE\n",
       "5*Bookcases + 16*Chairs + 30*Desks + 0\n",
       "SUBJECT TO\n",
       "CuttingHoursCapacity: 0.4 Bookcases + 0.4 Chairs + 0.8 Desks = 100\n",
       "\n",
       "ManHoursCapacity: 3 Bookcases + 3 Chairs + 5 Desks = 650\n",
       "\n",
       "WarehouseCapacity: 1.1 Bookcases + 0.7 Chairs + Desks = 140\n",
       "\n",
       "VARIABLES\n",
       "Bookcases Continuous\n",
       "Chairs Continuous\n",
       "Desks Continuous"
      ]
     },
     "execution_count": 27,
     "metadata": {},
     "output_type": "execute_result"
    }
   ],
   "source": [
    "prob"
   ]
  },
  {
   "cell_type": "code",
   "execution_count": 28,
   "metadata": {},
   "outputs": [],
   "source": [
    "solver = pulp.get_solver('GLPK_CMD')"
   ]
  },
  {
   "cell_type": "code",
   "execution_count": 29,
   "metadata": {},
   "outputs": [
    {
     "data": {
      "text/plain": [
       "1"
      ]
     },
     "execution_count": 29,
     "metadata": {},
     "output_type": "execute_result"
    }
   ],
   "source": [
    "prob.solve(solver=solver)"
   ]
  },
  {
   "cell_type": "code",
   "execution_count": 30,
   "metadata": {},
   "outputs": [
    {
     "name": "stdout",
     "output_type": "stream",
     "text": [
      "Desks = 100.0\n",
      "Chairs = 37.5\n",
      "Bookcases = 12.5\n"
     ]
    }
   ],
   "source": [
    "for product in products:\n",
    "    value = product_dvs[product].value()\n",
    "    print(f\"{product} = {value}\")"
   ]
  },
  {
   "cell_type": "code",
   "execution_count": 31,
   "metadata": {},
   "outputs": [
    {
     "name": "stdout",
     "output_type": "stream",
     "text": [
      "CuttingHoursCapacity 0.0\n",
      "ManHoursCapacity 0.0\n",
      "WarehouseCapacity 1.7763568394002505e-15\n"
     ]
    }
   ],
   "source": [
    "for c_name in prob.constraints:\n",
    "    print(c_name,prob.constraints[c_name].value())"
   ]
  },
  {
   "cell_type": "markdown",
   "metadata": {},
   "source": [
    "# Solvers"
   ]
  },
  {
   "cell_type": "code",
   "execution_count": 32,
   "metadata": {},
   "outputs": [
    {
     "data": {
      "text/plain": [
       "['GLPK_CMD',\n",
       " 'PYGLPK',\n",
       " 'CPLEX_CMD',\n",
       " 'CPLEX_PY',\n",
       " 'CPLEX_DLL',\n",
       " 'GUROBI',\n",
       " 'GUROBI_CMD',\n",
       " 'MOSEK',\n",
       " 'XPRESS',\n",
       " 'PULP_CBC_CMD',\n",
       " 'COIN_CMD',\n",
       " 'COINMP_DLL',\n",
       " 'CHOCO_CMD',\n",
       " 'PULP_CHOCO_CMD',\n",
       " 'MIPCL_CMD',\n",
       " 'SCIP_CMD']"
      ]
     },
     "execution_count": 32,
     "metadata": {},
     "output_type": "execute_result"
    }
   ],
   "source": [
    "solver_list = pulp.listSolvers()\n",
    "solver_list"
   ]
  },
  {
   "cell_type": "code",
   "execution_count": 33,
   "metadata": {},
   "outputs": [
    {
     "data": {
      "text/plain": [
       "['GLPK_CMD', 'SCIP_CMD']"
      ]
     },
     "execution_count": 33,
     "metadata": {},
     "output_type": "execute_result"
    }
   ],
   "source": [
    "solver_list = pulp.listSolvers(onlyAvailable=True)\n",
    "solver_list"
   ]
  },
  {
   "cell_type": "code",
   "execution_count": 34,
   "metadata": {},
   "outputs": [],
   "source": [
    "solver = pulp.get_solver('SCIP_CMD')"
   ]
  },
  {
   "cell_type": "code",
   "execution_count": 35,
   "metadata": {},
   "outputs": [
    {
     "data": {
      "text/plain": [
       "<pulp.apis.scip_api.SCIP_CMD at 0x7faffea12970>"
      ]
     },
     "execution_count": 35,
     "metadata": {},
     "output_type": "execute_result"
    }
   ],
   "source": [
    "solver"
   ]
  },
  {
   "cell_type": "code",
   "execution_count": 36,
   "metadata": {},
   "outputs": [
    {
     "data": {
      "text/plain": [
       "{'solver': 'SCIP_CMD',\n",
       " 'mip': True,\n",
       " 'msg': True,\n",
       " 'keepFiles': False,\n",
       " 'maxNodes': None}"
      ]
     },
     "execution_count": 36,
     "metadata": {},
     "output_type": "execute_result"
    }
   ],
   "source": [
    "solver.to_dict()"
   ]
  },
  {
   "cell_type": "markdown",
   "metadata": {},
   "source": [
    "# How does it work ?"
   ]
  },
  {
   "cell_type": "markdown",
   "metadata": {},
   "source": [
    "<img src=\"./images/model_solver_eco_system.jpg\" width=600 height=500 align=\"left\"/>"
   ]
  },
  {
   "cell_type": "code",
   "execution_count": 37,
   "metadata": {},
   "outputs": [
    {
     "data": {
      "text/plain": [
       "[Bookcases, Chairs, Desks]"
      ]
     },
     "execution_count": 37,
     "metadata": {},
     "output_type": "execute_result"
    }
   ],
   "source": [
    "prob.writeLP(\"product_mix.lp\")"
   ]
  },
  {
   "cell_type": "code",
   "execution_count": 38,
   "metadata": {},
   "outputs": [
    {
     "data": {
      "text/plain": [
       "[Bookcases, Chairs, Desks]"
      ]
     },
     "execution_count": 38,
     "metadata": {},
     "output_type": "execute_result"
    }
   ],
   "source": [
    "prob.writeMPS(\"product_mix.mps\")"
   ]
  },
  {
   "cell_type": "code",
   "execution_count": null,
   "metadata": {},
   "outputs": [],
   "source": []
  }
 ],
 "metadata": {
  "kernelspec": {
   "display_name": "Python(optmize)",
   "language": "python",
   "name": "optmize"
  },
  "language_info": {
   "codemirror_mode": {
    "name": "ipython",
    "version": 3
   },
   "file_extension": ".py",
   "mimetype": "text/x-python",
   "name": "python",
   "nbconvert_exporter": "python",
   "pygments_lexer": "ipython3",
   "version": "3.8.8"
  }
 },
 "nbformat": 4,
 "nbformat_minor": 4
}
