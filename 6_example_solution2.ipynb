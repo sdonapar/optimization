{
 "cells": [
  {
   "cell_type": "code",
   "execution_count": 1,
   "metadata": {},
   "outputs": [],
   "source": [
    "import numpy as np\n",
    "import pandas as pd\n",
    "import pulp\n",
    "from amply import Amply"
   ]
  },
  {
   "cell_type": "markdown",
   "metadata": {},
   "source": [
    "<img src=\"./images/example_lp_formulation.jpg\" width=500 height=500 align=\"left\"/>"
   ]
  },
  {
   "cell_type": "markdown",
   "metadata": {},
   "source": [
    "#### Objective Function\n",
    "#### Maximize Profit\n",
    "#### $30 X_{Desks} + 16 X_{Chairs} + 25 X_{Bookcases}$"
   ]
  },
  {
   "cell_type": "code",
   "execution_count": 2,
   "metadata": {},
   "outputs": [],
   "source": [
    "data_str = \"\"\"\n",
    "set PRODUCTS := Desks Chairs Bookcases;\n",
    "set OPERATIONS := Cutting Finishing Storing;\n",
    "\n",
    "set PRODUCT_OPERATIONS dimen 2;\n",
    "set PRODUCT_OPERATIONS : Desks Chairs Bookcases :=\n",
    " Cutting      + + +\n",
    " Finishing    + + +\n",
    " Storing      + + +\n",
    ";\n",
    "\n",
    "param OPERATION_REQUIREMENTS{PRODUCT_OPERATIONS};\n",
    "param OPERATION_REQUIREMENTS :=\n",
    " Cutting Desks 0.8\n",
    " Cutting Chairs 0.4\n",
    " Cutting Bookcases 0.4\n",
    " Finishing Desks 5\n",
    " Finishing Chairs 3\n",
    " Finishing Bookcases 3\n",
    " Storing Desks 1\n",
    " Storing Chairs 0.7\n",
    " Storing Bookcases 1.1\n",
    ";\n",
    "\n",
    "param CAPACITY_AVAILABLE{OPERATIONS};\n",
    "param CAPACITY_AVAILABLE :=\n",
    " Cutting 100\n",
    " Finishing 650\n",
    " Storing 140\n",
    ";\n",
    "\n",
    "param PROFIT{PRODUCTS};\n",
    "param PROFIT :=\n",
    " Desks 30\n",
    " Chairs 16\n",
    " Bookcases 25\n",
    ";\n",
    "\"\"\""
   ]
  },
  {
   "cell_type": "code",
   "execution_count": 3,
   "metadata": {},
   "outputs": [],
   "source": [
    "data = Amply(data_str)"
   ]
  },
  {
   "cell_type": "code",
   "execution_count": 4,
   "metadata": {},
   "outputs": [
    {
     "data": {
      "text/plain": [
       "<SetObject: ['Desks', 'Chairs', 'Bookcases']>"
      ]
     },
     "execution_count": 4,
     "metadata": {},
     "output_type": "execute_result"
    }
   ],
   "source": [
    "data.PRODUCTS"
   ]
  },
  {
   "cell_type": "markdown",
   "metadata": {},
   "source": [
    "### Define Problem"
   ]
  },
  {
   "cell_type": "code",
   "execution_count": 5,
   "metadata": {},
   "outputs": [],
   "source": [
    "prob = pulp.LpProblem(\"ProductMix\",pulp.LpMaximize)"
   ]
  },
  {
   "cell_type": "markdown",
   "metadata": {},
   "source": [
    "### Decision Variables (DVs)"
   ]
  },
  {
   "cell_type": "code",
   "execution_count": 6,
   "metadata": {},
   "outputs": [],
   "source": [
    "product_dvs = {}\n",
    "for product in data.PRODUCTS:\n",
    "    var = pulp.LpVariable(name=product,lowBound=0)\n",
    "    product_dvs[product] = var"
   ]
  },
  {
   "cell_type": "markdown",
   "metadata": {},
   "source": [
    "### Objective Function"
   ]
  },
  {
   "cell_type": "code",
   "execution_count": 7,
   "metadata": {},
   "outputs": [],
   "source": [
    "obj_expression = pulp.LpAffineExpression()\n",
    "for product in data.PRODUCTS:\n",
    "    obj_expression += product_dvs[product] * data.PROFIT[product]"
   ]
  },
  {
   "cell_type": "code",
   "execution_count": 8,
   "metadata": {},
   "outputs": [],
   "source": [
    "prob += obj_expression"
   ]
  },
  {
   "cell_type": "markdown",
   "metadata": {},
   "source": [
    "### Constraints"
   ]
  },
  {
   "cell_type": "code",
   "execution_count": 9,
   "metadata": {},
   "outputs": [],
   "source": [
    "constraints = []\n",
    "for operation in data.OPERATIONS:\n",
    "    expression = pulp.LpAffineExpression()\n",
    "    for product in data.PRODUCTS:\n",
    "        if (operation,product) in data.PRODUCT_OPERATIONS:\n",
    "            expression += product_dvs[product] * data.OPERATION_REQUIREMENTS[(operation,product)]\n",
    "    expression = expression <= data.CAPACITY_AVAILABLE[operation]\n",
    "    constraint = pulp.LpConstraint(expression,name=f\"{product}-{operation}\")\n",
    "    prob += constraint\n",
    "    constraints.append(constraint)\n",
    "    #CAPACITY_REQUIREMENTS[('Cutting','Desks')] "
   ]
  },
  {
   "cell_type": "code",
   "execution_count": 10,
   "metadata": {},
   "outputs": [
    {
     "data": {
      "text/plain": [
       "[0.4*Bookcases + 0.4*Chairs + 0.8*Desks + -100.0 = 0,\n",
       " 3.0*Bookcases + 3.0*Chairs + 5.0*Desks + -650.0 = 0,\n",
       " 1.1*Bookcases + 0.7*Chairs + 1.0*Desks + -140.0 = 0]"
      ]
     },
     "execution_count": 10,
     "metadata": {},
     "output_type": "execute_result"
    }
   ],
   "source": [
    "constraints"
   ]
  },
  {
   "cell_type": "code",
   "execution_count": 11,
   "metadata": {},
   "outputs": [
    {
     "data": {
      "text/plain": [
       "ProductMix:\n",
       "MAXIMIZE\n",
       "25.0*Bookcases + 16.0*Chairs + 30.0*Desks + 0.0\n",
       "SUBJECT TO\n",
       "Bookcases_Cutting: 0.4 Bookcases + 0.4 Chairs + 0.8 Desks = 100\n",
       "\n",
       "Bookcases_Finishing: 3 Bookcases + 3 Chairs + 5 Desks = 650\n",
       "\n",
       "Bookcases_Storing: 1.1 Bookcases + 0.7 Chairs + Desks = 140\n",
       "\n",
       "VARIABLES\n",
       "Bookcases Continuous\n",
       "Chairs Continuous\n",
       "Desks Continuous"
      ]
     },
     "execution_count": 11,
     "metadata": {},
     "output_type": "execute_result"
    }
   ],
   "source": [
    "prob"
   ]
  },
  {
   "cell_type": "markdown",
   "metadata": {},
   "source": [
    "### Solve"
   ]
  },
  {
   "cell_type": "code",
   "execution_count": 12,
   "metadata": {},
   "outputs": [
    {
     "data": {
      "text/plain": [
       "1"
      ]
     },
     "execution_count": 12,
     "metadata": {},
     "output_type": "execute_result"
    }
   ],
   "source": [
    "prob.solve()"
   ]
  },
  {
   "cell_type": "code",
   "execution_count": 13,
   "metadata": {},
   "outputs": [
    {
     "name": "stdout",
     "output_type": "stream",
     "text": [
      "Desks 100.0\n",
      "Chairs 37.5\n",
      "Bookcases 12.5\n"
     ]
    }
   ],
   "source": [
    "for product in product_dvs:\n",
    "    print(product,product_dvs[product].value())"
   ]
  },
  {
   "cell_type": "code",
   "execution_count": 14,
   "metadata": {},
   "outputs": [
    {
     "data": {
      "text/plain": [
       "[Bookcases, Chairs, Desks]"
      ]
     },
     "execution_count": 14,
     "metadata": {},
     "output_type": "execute_result"
    }
   ],
   "source": [
    "prob.writeLP(\"product_mix.lp\")"
   ]
  },
  {
   "cell_type": "code",
   "execution_count": 15,
   "metadata": {},
   "outputs": [
    {
     "data": {
      "text/plain": [
       "[Bookcases, Chairs, Desks]"
      ]
     },
     "execution_count": 15,
     "metadata": {},
     "output_type": "execute_result"
    }
   ],
   "source": [
    "prob.writeMPS(\"product_mix.mps\")"
   ]
  },
  {
   "cell_type": "code",
   "execution_count": null,
   "metadata": {},
   "outputs": [],
   "source": []
  }
 ],
 "metadata": {
  "kernelspec": {
   "display_name": "Python(optmize)",
   "language": "python",
   "name": "optmize"
  },
  "language_info": {
   "codemirror_mode": {
    "name": "ipython",
    "version": 3
   },
   "file_extension": ".py",
   "mimetype": "text/x-python",
   "name": "python",
   "nbconvert_exporter": "python",
   "pygments_lexer": "ipython3",
   "version": "3.8.8"
  }
 },
 "nbformat": 4,
 "nbformat_minor": 4
}
